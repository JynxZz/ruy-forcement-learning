{
 "cells": [
  {
   "cell_type": "code",
   "execution_count": 1,
   "metadata": {},
   "outputs": [],
   "source": [
    "import diambra.arena\n",
    "from diambra.arena.utils.gym_utils import show_gym_obs"
   ]
  },
  {
   "cell_type": "markdown",
   "metadata": {},
   "source": [
    "# Setup Settings Env"
   ]
  },
  {
   "cell_type": "code",
   "execution_count": 2,
   "metadata": {},
   "outputs": [],
   "source": [
    "settings = {\n",
    "    'player': 'P1',\n",
    "    'step_ratio': 6,\n",
    "    'frame_shape': [0, 0, 1],\n",
    "    'continue_game': -10.0,\n",
    "    'show_final': True,\n",
    "    'hardcore': False,\n",
    "    'difficulty': 5,\n",
    "    'characters': [[\"Ryu\"], [\"Ken\"]],\n",
    "    'action_space': 'multi_discrete',\n",
    "    'attack_but_combination': True,\n",
    "    'sounds': 1\n",
    "}"
   ]
  },
  {
   "cell_type": "markdown",
   "metadata": {},
   "source": [
    "# Setup Loop Reinforcement Learning "
   ]
  },
  {
   "cell_type": "code",
   "execution_count": 3,
   "metadata": {},
   "outputs": [
    {
     "ename": "KeyboardInterrupt",
     "evalue": "",
     "output_type": "error",
     "traceback": [
      "\u001b[0;31m---------------------------------------------------------------------------\u001b[0m",
      "\u001b[0;31mKeyboardInterrupt\u001b[0m                         Traceback (most recent call last)",
      "Cell \u001b[0;32mIn [3], line 1\u001b[0m\n\u001b[0;32m----> 1\u001b[0m env \u001b[39m=\u001b[39m diambra\u001b[39m.\u001b[39;49marena\u001b[39m.\u001b[39;49mmake(\u001b[39m'\u001b[39;49m\u001b[39msfiii3n\u001b[39;49m\u001b[39m'\u001b[39;49m, settings, {\u001b[39m\"\u001b[39;49m\u001b[39menv_address\u001b[39;49m\u001b[39m\"\u001b[39;49m:\u001b[39m\"\u001b[39;49m\u001b[39m127.0.0.1:55026\u001b[39;49m\u001b[39m\"\u001b[39;49m})\n\u001b[1;32m      3\u001b[0m observation \u001b[39m=\u001b[39m env\u001b[39m.\u001b[39mreset()\n",
      "File \u001b[0;32m~/.pyenv/versions/3.10.6/envs/ryu-forcement-learning/lib/python3.10/site-packages/diambra/arena/make_env.py:102\u001b[0m, in \u001b[0;36mmake\u001b[0;34m(game_id, env_settings, wrappers_settings, traj_rec_settings, seed, rank, log_level)\u001b[0m\n\u001b[1;32m    100\u001b[0m         env \u001b[39m=\u001b[39m DiambraGymHardcore1P(env_settings)\n\u001b[1;32m    101\u001b[0m     \u001b[39melse\u001b[39;00m:\n\u001b[0;32m--> 102\u001b[0m         env \u001b[39m=\u001b[39m DiambraGym1P(env_settings)\n\u001b[1;32m    103\u001b[0m \u001b[39melse\u001b[39;00m:  \u001b[39m# 2P Mode\u001b[39;00m\n\u001b[1;32m    104\u001b[0m     \u001b[39mif\u001b[39;00m env_settings[\u001b[39m\"\u001b[39m\u001b[39mhardcore\u001b[39m\u001b[39m\"\u001b[39m] \u001b[39mis\u001b[39;00m \u001b[39mTrue\u001b[39;00m:\n",
      "File \u001b[0;32m~/.pyenv/versions/3.10.6/envs/ryu-forcement-learning/lib/python3.10/site-packages/diambra/arena/arena_gym.py:292\u001b[0m, in \u001b[0;36mDiambraGym1P.__init__\u001b[0;34m(self, env_settings)\u001b[0m\n\u001b[1;32m    291\u001b[0m \u001b[39mdef\u001b[39;00m \u001b[39m__init__\u001b[39m(\u001b[39mself\u001b[39m, env_settings):\n\u001b[0;32m--> 292\u001b[0m     \u001b[39msuper\u001b[39;49m()\u001b[39m.\u001b[39;49m\u001b[39m__init__\u001b[39;49m(env_settings)\n\u001b[1;32m    294\u001b[0m     \u001b[39m# Dictionary observation space\u001b[39;00m\n\u001b[1;32m    295\u001b[0m     observation_space_dict \u001b[39m=\u001b[39m {}\n",
      "File \u001b[0;32m~/.pyenv/versions/3.10.6/envs/ryu-forcement-learning/lib/python3.10/site-packages/diambra/arena/arena_gym.py:150\u001b[0m, in \u001b[0;36mDiambraGymHardcore1P.__init__\u001b[0;34m(self, env_settings)\u001b[0m\n\u001b[1;32m    149\u001b[0m \u001b[39mdef\u001b[39;00m \u001b[39m__init__\u001b[39m(\u001b[39mself\u001b[39m, env_settings):\n\u001b[0;32m--> 150\u001b[0m     \u001b[39msuper\u001b[39;49m()\u001b[39m.\u001b[39;49m\u001b[39m__init__\u001b[39;49m(env_settings)\n\u001b[1;32m    152\u001b[0m     \u001b[39m# Define action and observation space\u001b[39;00m\n\u001b[1;32m    153\u001b[0m     \u001b[39m# They must be gym.spaces objects\u001b[39;00m\n\u001b[1;32m    155\u001b[0m     \u001b[39mif\u001b[39;00m env_settings[\u001b[39m\"\u001b[39m\u001b[39maction_space\u001b[39m\u001b[39m\"\u001b[39m][\u001b[39m0\u001b[39m] \u001b[39m==\u001b[39m \u001b[39m\"\u001b[39m\u001b[39mmulti_discrete\u001b[39m\u001b[39m\"\u001b[39m:\n\u001b[1;32m    156\u001b[0m         \u001b[39m# MultiDiscrete actions:\u001b[39;00m\n\u001b[1;32m    157\u001b[0m         \u001b[39m# - Arrows -> One discrete set\u001b[39;00m\n\u001b[0;32m   (...)\u001b[0m\n\u001b[1;32m    162\u001b[0m         \u001b[39m#     or ignored:\u001b[39;00m\n\u001b[1;32m    163\u001b[0m         \u001b[39m#     e.g. NOOP = [0], ButA = [1], ButB = [2]\u001b[39;00m\n",
      "File \u001b[0;32m~/.pyenv/versions/3.10.6/envs/ryu-forcement-learning/lib/python3.10/site-packages/diambra/arena/arena_gym.py:29\u001b[0m, in \u001b[0;36mDiambraGymHardcoreBase.__init__\u001b[0;34m(self, env_settings)\u001b[0m\n\u001b[1;32m     26\u001b[0m \u001b[39mself\u001b[39m\u001b[39m.\u001b[39mrender_gui_started \u001b[39m=\u001b[39m \u001b[39mFalse\u001b[39;00m\n\u001b[1;32m     28\u001b[0m \u001b[39m# Launch DIAMBRA Arena\u001b[39;00m\n\u001b[0;32m---> 29\u001b[0m \u001b[39mself\u001b[39m\u001b[39m.\u001b[39marena_engine \u001b[39m=\u001b[39m DiambraEngine(env_settings[\u001b[39m\"\u001b[39;49m\u001b[39menv_address\u001b[39;49m\u001b[39m\"\u001b[39;49m], env_settings[\u001b[39m\"\u001b[39;49m\u001b[39mgrpc_timeout\u001b[39;49m\u001b[39m\"\u001b[39;49m])\n\u001b[1;32m     31\u001b[0m \u001b[39m# Send environment settings, retrieve environment info\u001b[39;00m\n\u001b[1;32m     32\u001b[0m env_info_dict \u001b[39m=\u001b[39m \u001b[39mself\u001b[39m\u001b[39m.\u001b[39marena_engine\u001b[39m.\u001b[39menv_init(\u001b[39mself\u001b[39m\u001b[39m.\u001b[39menv_settings)\n",
      "File \u001b[0;32m~/.pyenv/versions/3.10.6/envs/ryu-forcement-learning/lib/python3.10/site-packages/diambra/arena/engine/interface.py:24\u001b[0m, in \u001b[0;36mDiambraEngine.__init__\u001b[0;34m(self, env_address, grpc_timeout)\u001b[0m\n\u001b[1;32m     20\u001b[0m \u001b[39mself\u001b[39m\u001b[39m.\u001b[39mlogger \u001b[39m=\u001b[39m logging\u001b[39m.\u001b[39mgetLogger(\u001b[39m__name__\u001b[39m)\n\u001b[1;32m     22\u001b[0m \u001b[39mtry\u001b[39;00m:\n\u001b[1;32m     23\u001b[0m     \u001b[39m# Opening gRPC channel\u001b[39;00m\n\u001b[0;32m---> 24\u001b[0m     \u001b[39mself\u001b[39m\u001b[39m.\u001b[39mclient \u001b[39m=\u001b[39m Client(env_address, grpc_timeout)\n\u001b[1;32m     25\u001b[0m     \u001b[39mself\u001b[39m\u001b[39m.\u001b[39mlogger\u001b[39m.\u001b[39minfo(\u001b[39m\"\u001b[39m\u001b[39mTrying to connect to DIAMBRA Engine server (timeout=\u001b[39m\u001b[39m{}\u001b[39;00m\u001b[39ms)...\u001b[39m\u001b[39m\"\u001b[39m\u001b[39m.\u001b[39mformat(grpc_timeout))\n\u001b[1;32m     26\u001b[0m \u001b[39mexcept\u001b[39;00m grpc\u001b[39m.\u001b[39mFutureTimeoutError \u001b[39mas\u001b[39;00m e:\n",
      "File \u001b[0;32m~/.pyenv/versions/3.10.6/envs/ryu-forcement-learning/lib/python3.10/site-packages/diambra/engine/__init__.py:11\u001b[0m, in \u001b[0;36mClient.__init__\u001b[0;34m(self, address, timeout)\u001b[0m\n\u001b[1;32m      9\u001b[0m \u001b[39mself\u001b[39m\u001b[39m.\u001b[39mchannel \u001b[39m=\u001b[39m grpc\u001b[39m.\u001b[39minsecure_channel(address)\n\u001b[1;32m     10\u001b[0m \u001b[39msuper\u001b[39m()\u001b[39m.\u001b[39m\u001b[39m__init__\u001b[39m(\u001b[39mself\u001b[39m\u001b[39m.\u001b[39mchannel)\n\u001b[0;32m---> 11\u001b[0m grpc\u001b[39m.\u001b[39;49mchannel_ready_future(\u001b[39mself\u001b[39;49m\u001b[39m.\u001b[39;49mchannel)\u001b[39m.\u001b[39;49mresult(timeout\u001b[39m=\u001b[39;49mtimeout)\n",
      "File \u001b[0;32m~/.pyenv/versions/3.10.6/envs/ryu-forcement-learning/lib/python3.10/site-packages/grpc/_utilities.py:139\u001b[0m, in \u001b[0;36m_ChannelReadyFuture.result\u001b[0;34m(self, timeout)\u001b[0m\n\u001b[1;32m    138\u001b[0m \u001b[39mdef\u001b[39;00m \u001b[39mresult\u001b[39m(\u001b[39mself\u001b[39m, timeout\u001b[39m=\u001b[39m\u001b[39mNone\u001b[39;00m):\n\u001b[0;32m--> 139\u001b[0m     \u001b[39mself\u001b[39;49m\u001b[39m.\u001b[39;49m_block(timeout)\n",
      "File \u001b[0;32m~/.pyenv/versions/3.10.6/envs/ryu-forcement-learning/lib/python3.10/site-packages/grpc/_utilities.py:87\u001b[0m, in \u001b[0;36m_ChannelReadyFuture._block\u001b[0;34m(self, timeout)\u001b[0m\n\u001b[1;32m     85\u001b[0m     \u001b[39mraise\u001b[39;00m grpc\u001b[39m.\u001b[39mFutureTimeoutError()\n\u001b[1;32m     86\u001b[0m \u001b[39melse\u001b[39;00m:\n\u001b[0;32m---> 87\u001b[0m     \u001b[39mself\u001b[39;49m\u001b[39m.\u001b[39;49m_condition\u001b[39m.\u001b[39;49mwait(timeout\u001b[39m=\u001b[39;49mremaining)\n",
      "File \u001b[0;32m~/.pyenv/versions/3.10.6/lib/python3.10/threading.py:324\u001b[0m, in \u001b[0;36mCondition.wait\u001b[0;34m(self, timeout)\u001b[0m\n\u001b[1;32m    322\u001b[0m \u001b[39melse\u001b[39;00m:\n\u001b[1;32m    323\u001b[0m     \u001b[39mif\u001b[39;00m timeout \u001b[39m>\u001b[39m \u001b[39m0\u001b[39m:\n\u001b[0;32m--> 324\u001b[0m         gotit \u001b[39m=\u001b[39m waiter\u001b[39m.\u001b[39;49macquire(\u001b[39mTrue\u001b[39;49;00m, timeout)\n\u001b[1;32m    325\u001b[0m     \u001b[39melse\u001b[39;00m:\n\u001b[1;32m    326\u001b[0m         gotit \u001b[39m=\u001b[39m waiter\u001b[39m.\u001b[39macquire(\u001b[39mFalse\u001b[39;00m)\n",
      "\u001b[0;31mKeyboardInterrupt\u001b[0m: "
     ]
    }
   ],
   "source": [
    "env = diambra.arena.make('sfiii3n', settings, {\"env_address\":\"127.0.0.1:55026\"})\n",
    "\n",
    "observation = env.reset()"
   ]
  },
  {
   "cell_type": "code",
   "execution_count": null,
   "metadata": {},
   "outputs": [],
   "source": [
    "\n",
    "show_gym_obs(observation, env.char_names)\n",
    "\n",
    "while True:\n",
    "    # env.render()\n",
    "    actions = env.action_space.sample()\n",
    "\n",
    "\n",
    "    observation, reward, done, info = env.step(actions)\n",
    "    show_gym_obs(observation, env.char_names)\n",
    "\n",
    "    print(\"Reward: {}\".format(reward))\n",
    "    print(\"Done: {}\".format(done))\n",
    "    print(\"Info: {}\".format(info))\n",
    "\n",
    "    if done:\n",
    "        observation = env.reset()\n",
    "        show_gym_obs(observation, env.char_names)\n",
    "        break\n",
    "        \n"
   ]
  },
  {
   "cell_type": "code",
   "execution_count": null,
   "metadata": {},
   "outputs": [],
   "source": [
    "env.close()"
   ]
  }
 ],
 "metadata": {
  "kernelspec": {
   "display_name": "Python 3.10.6 64-bit ('ryu-forcement-learning')",
   "language": "python",
   "name": "python3"
  },
  "language_info": {
   "codemirror_mode": {
    "name": "ipython",
    "version": 3
   },
   "file_extension": ".py",
   "mimetype": "text/x-python",
   "name": "python",
   "nbconvert_exporter": "python",
   "pygments_lexer": "ipython3",
   "version": "3.10.6"
  },
  "toc": {
   "base_numbering": 1,
   "nav_menu": {},
   "number_sections": true,
   "sideBar": true,
   "skip_h1_title": false,
   "title_cell": "Table of Contents",
   "title_sidebar": "Contents",
   "toc_cell": false,
   "toc_position": {},
   "toc_section_display": true,
   "toc_window_display": false
  },
  "vscode": {
   "interpreter": {
    "hash": "607190dd87e8229e4fb3a03577ded50b1a426025ea0f7477bed84ea1928e8115"
   }
  }
 },
 "nbformat": 4,
 "nbformat_minor": 2
}
